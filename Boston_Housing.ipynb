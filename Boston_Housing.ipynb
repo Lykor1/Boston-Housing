{
  "nbformat": 4,
  "nbformat_minor": 0,
  "metadata": {
    "colab": {
      "provenance": [],
      "collapsed_sections": []
    },
    "kernelspec": {
      "name": "python3",
      "display_name": "Python 3"
    },
    "language_info": {
      "name": "python"
    },
    "accelerator": "GPU"
  },
  "cells": [
    {
      "cell_type": "code",
      "execution_count": 1,
      "metadata": {
        "id": "Yco784jZcuNH"
      },
      "outputs": [],
      "source": [
        "from tensorflow.keras.models import Sequential\n",
        "from tensorflow.keras.layers import Dense\n",
        "from tensorflow.keras.datasets import boston_housing\n",
        "from sklearn.preprocessing import StandardScaler\n",
        "import numpy as np\n",
        "import matplotlib.pyplot as plt\n",
        "%matplotlib inline"
      ]
    },
    {
      "cell_type": "markdown",
      "source": [
        "Загрузка данных"
      ],
      "metadata": {
        "id": "VLPdIN6_9AuK"
      }
    },
    {
      "cell_type": "code",
      "source": [
        "(x_train, y_train), (x_test, y_test) = boston_housing.load_data()"
      ],
      "metadata": {
        "id": "kldGf3Ay9AaM",
        "colab": {
          "base_uri": "https://localhost:8080/"
        },
        "outputId": "25d5cff1-40f1-4cdf-e72f-1b4300e21f22"
      },
      "execution_count": 2,
      "outputs": [
        {
          "output_type": "stream",
          "name": "stdout",
          "text": [
            "Downloading data from https://storage.googleapis.com/tensorflow/tf-keras-datasets/boston_housing.npz\n",
            "57344/57026 [==============================] - 0s 0us/step\n",
            "65536/57026 [==================================] - 0s 0us/step\n"
          ]
        }
      ]
    },
    {
      "cell_type": "code",
      "source": [
        "x_train[0]"
      ],
      "metadata": {
        "colab": {
          "base_uri": "https://localhost:8080/"
        },
        "id": "Ntoos7ao90FL",
        "outputId": "07b964ac-d8de-4a39-faee-f8ae2504a7ed"
      },
      "execution_count": 3,
      "outputs": [
        {
          "output_type": "execute_result",
          "data": {
            "text/plain": [
              "array([  1.23247,   0.     ,   8.14   ,   0.     ,   0.538  ,   6.142  ,\n",
              "        91.7    ,   3.9769 ,   4.     , 307.     ,  21.     , 396.9    ,\n",
              "        18.72   ])"
            ]
          },
          "metadata": {},
          "execution_count": 3
        }
      ]
    },
    {
      "cell_type": "markdown",
      "source": [
        "Нормализация"
      ],
      "metadata": {
        "id": "J8p8ZmZw94rl"
      }
    },
    {
      "cell_type": "code",
      "source": [
        "standart_scaler = StandardScaler()\n",
        "x_train = standart_scaler.fit_transform(x_train)\n",
        "x_test = standart_scaler.fit_transform(x_test)\n",
        "print(x_train[0])"
      ],
      "metadata": {
        "colab": {
          "base_uri": "https://localhost:8080/"
        },
        "id": "M37IuO1P96BR",
        "outputId": "a6d55e01-2d0d-491d-ff28-e5b26abfa848"
      },
      "execution_count": 4,
      "outputs": [
        {
          "output_type": "stream",
          "name": "stdout",
          "text": [
            "[-0.27224633 -0.48361547 -0.43576161 -0.25683275 -0.1652266  -0.1764426\n",
            "  0.81306188  0.1166983  -0.62624905 -0.59517003  1.14850044  0.44807713\n",
            "  0.8252202 ]\n"
          ]
        }
      ]
    },
    {
      "cell_type": "markdown",
      "source": [
        "Построение модели"
      ],
      "metadata": {
        "id": "vxsmg3d8_QCM"
      }
    },
    {
      "cell_type": "code",
      "source": [
        "model = Sequential()\n",
        "model.add(Dense(13, activation='relu', input_dim=x_train.shape[1]))\n",
        "model.add(Dense(1))"
      ],
      "metadata": {
        "id": "MwggmYL0_RmM"
      },
      "execution_count": null,
      "outputs": []
    },
    {
      "cell_type": "code",
      "source": [
        "model.compile(optimizer='Adam', loss='mse', metrics=['mae'])"
      ],
      "metadata": {
        "id": "ugCRrFXK_t1_"
      },
      "execution_count": null,
      "outputs": []
    },
    {
      "cell_type": "markdown",
      "source": [
        "Обучение"
      ],
      "metadata": {
        "id": "TO2CG4SL_3l_"
      }
    },
    {
      "cell_type": "code",
      "source": [
        "history = model.fit(x_train, y_train, epochs=100, batch_size=1, validation_split=0.1)"
      ],
      "metadata": {
        "colab": {
          "base_uri": "https://localhost:8080/"
        },
        "id": "DaMsDwhE_3Hj",
        "outputId": "41bf79c6-c2fa-4ff8-a486-55375882e4bf"
      },
      "execution_count": null,
      "outputs": [
        {
          "output_type": "stream",
          "name": "stdout",
          "text": [
            "Epoch 1/100\n",
            "363/363 [==============================] - 2s 3ms/step - loss: 546.0466 - mae: 21.4187 - val_loss: 389.3007 - val_mae: 18.5750\n",
            "Epoch 2/100\n",
            "363/363 [==============================] - 1s 2ms/step - loss: 374.2234 - mae: 16.8743 - val_loss: 198.5623 - val_mae: 12.7120\n",
            "Epoch 3/100\n",
            "363/363 [==============================] - 1s 2ms/step - loss: 179.1153 - mae: 10.7284 - val_loss: 59.7016 - val_mae: 6.5320\n",
            "Epoch 4/100\n",
            "363/363 [==============================] - 1s 2ms/step - loss: 72.3349 - mae: 5.9296 - val_loss: 22.1876 - val_mae: 3.6699\n",
            "Epoch 5/100\n",
            "363/363 [==============================] - 1s 2ms/step - loss: 41.9397 - mae: 4.3603 - val_loss: 21.1359 - val_mae: 3.5429\n",
            "Epoch 6/100\n",
            "363/363 [==============================] - 1s 2ms/step - loss: 33.4835 - mae: 3.9834 - val_loss: 22.7535 - val_mae: 3.6620\n",
            "Epoch 7/100\n",
            "363/363 [==============================] - 1s 2ms/step - loss: 29.0999 - mae: 3.7443 - val_loss: 23.8136 - val_mae: 3.6714\n",
            "Epoch 8/100\n",
            "363/363 [==============================] - 1s 2ms/step - loss: 26.6713 - mae: 3.6251 - val_loss: 24.3294 - val_mae: 3.6445\n",
            "Epoch 9/100\n",
            "363/363 [==============================] - 1s 4ms/step - loss: 25.0382 - mae: 3.5190 - val_loss: 24.9348 - val_mae: 3.6524\n",
            "Epoch 10/100\n",
            "363/363 [==============================] - 1s 4ms/step - loss: 23.7806 - mae: 3.4316 - val_loss: 26.1966 - val_mae: 3.7410\n",
            "Epoch 11/100\n",
            "363/363 [==============================] - 1s 4ms/step - loss: 22.9533 - mae: 3.4409 - val_loss: 25.3689 - val_mae: 3.6422\n",
            "Epoch 12/100\n",
            "363/363 [==============================] - 2s 4ms/step - loss: 22.2628 - mae: 3.3894 - val_loss: 24.9161 - val_mae: 3.6047\n",
            "Epoch 13/100\n",
            "363/363 [==============================] - 2s 4ms/step - loss: 21.6349 - mae: 3.3487 - val_loss: 24.1894 - val_mae: 3.5493\n",
            "Epoch 14/100\n",
            "363/363 [==============================] - 2s 4ms/step - loss: 21.0973 - mae: 3.2914 - val_loss: 24.3255 - val_mae: 3.6010\n",
            "Epoch 15/100\n",
            "363/363 [==============================] - 2s 5ms/step - loss: 20.5758 - mae: 3.2354 - val_loss: 23.1446 - val_mae: 3.4361\n",
            "Epoch 16/100\n",
            "363/363 [==============================] - 1s 4ms/step - loss: 19.9730 - mae: 3.2315 - val_loss: 22.4253 - val_mae: 3.4138\n",
            "Epoch 17/100\n",
            "363/363 [==============================] - 2s 5ms/step - loss: 19.4746 - mae: 3.1668 - val_loss: 21.9107 - val_mae: 3.3831\n",
            "Epoch 18/100\n",
            "363/363 [==============================] - 1s 3ms/step - loss: 19.0875 - mae: 3.1359 - val_loss: 21.3522 - val_mae: 3.3407\n",
            "Epoch 19/100\n",
            "363/363 [==============================] - 1s 2ms/step - loss: 18.5811 - mae: 3.0775 - val_loss: 20.1909 - val_mae: 3.2202\n",
            "Epoch 20/100\n",
            "363/363 [==============================] - 1s 2ms/step - loss: 18.0041 - mae: 3.0462 - val_loss: 19.2308 - val_mae: 3.2134\n",
            "Epoch 21/100\n",
            "363/363 [==============================] - 1s 2ms/step - loss: 17.5678 - mae: 3.0057 - val_loss: 18.5204 - val_mae: 3.1330\n",
            "Epoch 22/100\n",
            "363/363 [==============================] - 1s 2ms/step - loss: 17.1370 - mae: 2.9337 - val_loss: 18.1253 - val_mae: 3.1675\n",
            "Epoch 23/100\n",
            "363/363 [==============================] - 1s 2ms/step - loss: 16.7060 - mae: 2.8927 - val_loss: 17.8221 - val_mae: 3.0058\n",
            "Epoch 24/100\n",
            "363/363 [==============================] - 1s 2ms/step - loss: 16.2923 - mae: 2.8820 - val_loss: 17.0047 - val_mae: 3.0460\n",
            "Epoch 25/100\n",
            "363/363 [==============================] - 1s 2ms/step - loss: 15.8872 - mae: 2.8085 - val_loss: 15.7802 - val_mae: 2.9197\n",
            "Epoch 26/100\n",
            "363/363 [==============================] - 1s 2ms/step - loss: 15.4859 - mae: 2.8003 - val_loss: 14.8461 - val_mae: 2.8077\n",
            "Epoch 27/100\n",
            "363/363 [==============================] - 1s 2ms/step - loss: 15.2308 - mae: 2.7542 - val_loss: 14.0265 - val_mae: 2.7014\n",
            "Epoch 28/100\n",
            "363/363 [==============================] - 1s 2ms/step - loss: 14.8187 - mae: 2.7175 - val_loss: 14.1218 - val_mae: 2.7448\n",
            "Epoch 29/100\n",
            "363/363 [==============================] - 1s 2ms/step - loss: 14.4758 - mae: 2.6767 - val_loss: 13.1166 - val_mae: 2.6693\n",
            "Epoch 30/100\n",
            "363/363 [==============================] - 1s 2ms/step - loss: 14.1147 - mae: 2.6170 - val_loss: 12.6057 - val_mae: 2.5981\n",
            "Epoch 31/100\n",
            "363/363 [==============================] - 1s 2ms/step - loss: 13.8219 - mae: 2.6059 - val_loss: 12.4360 - val_mae: 2.6166\n",
            "Epoch 32/100\n",
            "363/363 [==============================] - 1s 2ms/step - loss: 13.5603 - mae: 2.5447 - val_loss: 12.0657 - val_mae: 2.5688\n",
            "Epoch 33/100\n",
            "363/363 [==============================] - 1s 2ms/step - loss: 13.2989 - mae: 2.5501 - val_loss: 11.2416 - val_mae: 2.4517\n",
            "Epoch 34/100\n",
            "363/363 [==============================] - 1s 2ms/step - loss: 12.9499 - mae: 2.5044 - val_loss: 11.0076 - val_mae: 2.6260\n",
            "Epoch 35/100\n",
            "363/363 [==============================] - 1s 2ms/step - loss: 12.6901 - mae: 2.4644 - val_loss: 10.3795 - val_mae: 2.4604\n",
            "Epoch 36/100\n",
            "363/363 [==============================] - 1s 2ms/step - loss: 12.4298 - mae: 2.4535 - val_loss: 10.7486 - val_mae: 2.6962\n",
            "Epoch 37/100\n",
            "363/363 [==============================] - 1s 2ms/step - loss: 12.1928 - mae: 2.3799 - val_loss: 9.5408 - val_mae: 2.3934\n",
            "Epoch 38/100\n",
            "363/363 [==============================] - 1s 2ms/step - loss: 12.1200 - mae: 2.3896 - val_loss: 9.9355 - val_mae: 2.5825\n",
            "Epoch 39/100\n",
            "363/363 [==============================] - 1s 2ms/step - loss: 11.7470 - mae: 2.3610 - val_loss: 9.1642 - val_mae: 2.4582\n",
            "Epoch 40/100\n",
            "363/363 [==============================] - 1s 2ms/step - loss: 11.6630 - mae: 2.3514 - val_loss: 9.2700 - val_mae: 2.4174\n",
            "Epoch 41/100\n",
            "363/363 [==============================] - 1s 2ms/step - loss: 11.4418 - mae: 2.3279 - val_loss: 8.9803 - val_mae: 2.4783\n",
            "Epoch 42/100\n",
            "363/363 [==============================] - 1s 2ms/step - loss: 11.3207 - mae: 2.2990 - val_loss: 8.6444 - val_mae: 2.3501\n",
            "Epoch 43/100\n",
            "363/363 [==============================] - 1s 2ms/step - loss: 11.0975 - mae: 2.2901 - val_loss: 8.4823 - val_mae: 2.3182\n",
            "Epoch 44/100\n",
            "363/363 [==============================] - 1s 2ms/step - loss: 10.9569 - mae: 2.2921 - val_loss: 8.3255 - val_mae: 2.3876\n",
            "Epoch 45/100\n",
            "363/363 [==============================] - 1s 2ms/step - loss: 10.8209 - mae: 2.2670 - val_loss: 8.0310 - val_mae: 2.2492\n",
            "Epoch 46/100\n",
            "363/363 [==============================] - 1s 2ms/step - loss: 10.7180 - mae: 2.2559 - val_loss: 8.5629 - val_mae: 2.4803\n",
            "Epoch 47/100\n",
            "363/363 [==============================] - 1s 2ms/step - loss: 10.5551 - mae: 2.2435 - val_loss: 8.1063 - val_mae: 2.3703\n",
            "Epoch 48/100\n",
            "363/363 [==============================] - 1s 2ms/step - loss: 10.2956 - mae: 2.2117 - val_loss: 8.5989 - val_mae: 2.4889\n",
            "Epoch 49/100\n",
            "363/363 [==============================] - 1s 2ms/step - loss: 10.2745 - mae: 2.2113 - val_loss: 7.4620 - val_mae: 2.2013\n",
            "Epoch 50/100\n",
            "363/363 [==============================] - 1s 2ms/step - loss: 10.1993 - mae: 2.2233 - val_loss: 7.6110 - val_mae: 2.2623\n",
            "Epoch 51/100\n",
            "363/363 [==============================] - 1s 2ms/step - loss: 10.0141 - mae: 2.1802 - val_loss: 7.4381 - val_mae: 2.1523\n",
            "Epoch 52/100\n",
            "363/363 [==============================] - 1s 2ms/step - loss: 10.1396 - mae: 2.2006 - val_loss: 7.5569 - val_mae: 2.3002\n",
            "Epoch 53/100\n",
            "363/363 [==============================] - 1s 2ms/step - loss: 10.0054 - mae: 2.2019 - val_loss: 7.7153 - val_mae: 2.3289\n",
            "Epoch 54/100\n",
            "363/363 [==============================] - 1s 2ms/step - loss: 9.8277 - mae: 2.1749 - val_loss: 8.3392 - val_mae: 2.4680\n",
            "Epoch 55/100\n",
            "363/363 [==============================] - 1s 2ms/step - loss: 9.7498 - mae: 2.1859 - val_loss: 7.5400 - val_mae: 2.3016\n",
            "Epoch 56/100\n",
            "363/363 [==============================] - 1s 2ms/step - loss: 9.6518 - mae: 2.1755 - val_loss: 7.6749 - val_mae: 2.3816\n",
            "Epoch 57/100\n",
            "363/363 [==============================] - 1s 2ms/step - loss: 9.5319 - mae: 2.1190 - val_loss: 7.5574 - val_mae: 2.3058\n",
            "Epoch 58/100\n",
            "363/363 [==============================] - 1s 2ms/step - loss: 9.5543 - mae: 2.1522 - val_loss: 7.3026 - val_mae: 2.2873\n",
            "Epoch 59/100\n",
            "363/363 [==============================] - 1s 2ms/step - loss: 9.3771 - mae: 2.1281 - val_loss: 7.2603 - val_mae: 2.2607\n",
            "Epoch 60/100\n",
            "363/363 [==============================] - 1s 2ms/step - loss: 9.4027 - mae: 2.1245 - val_loss: 7.2745 - val_mae: 2.2145\n",
            "Epoch 61/100\n",
            "363/363 [==============================] - 1s 2ms/step - loss: 9.3645 - mae: 2.1193 - val_loss: 7.8664 - val_mae: 2.3822\n",
            "Epoch 62/100\n",
            "363/363 [==============================] - 1s 2ms/step - loss: 9.1721 - mae: 2.1292 - val_loss: 7.7250 - val_mae: 2.3750\n",
            "Epoch 63/100\n",
            "363/363 [==============================] - 1s 2ms/step - loss: 9.1886 - mae: 2.0968 - val_loss: 6.9947 - val_mae: 2.2464\n",
            "Epoch 64/100\n",
            "363/363 [==============================] - 1s 2ms/step - loss: 9.1754 - mae: 2.1170 - val_loss: 6.9402 - val_mae: 2.1502\n",
            "Epoch 65/100\n",
            "363/363 [==============================] - 1s 2ms/step - loss: 9.1609 - mae: 2.1414 - val_loss: 7.0875 - val_mae: 2.2546\n",
            "Epoch 66/100\n",
            "363/363 [==============================] - 1s 2ms/step - loss: 8.9909 - mae: 2.0937 - val_loss: 7.2971 - val_mae: 2.2956\n",
            "Epoch 67/100\n",
            "363/363 [==============================] - 1s 2ms/step - loss: 9.0393 - mae: 2.0974 - val_loss: 6.7502 - val_mae: 2.1764\n",
            "Epoch 68/100\n",
            "363/363 [==============================] - 1s 2ms/step - loss: 8.8444 - mae: 2.0817 - val_loss: 6.5765 - val_mae: 2.0907\n",
            "Epoch 69/100\n",
            "363/363 [==============================] - 1s 2ms/step - loss: 8.6987 - mae: 2.0895 - val_loss: 7.9136 - val_mae: 2.3943\n",
            "Epoch 70/100\n",
            "363/363 [==============================] - 1s 2ms/step - loss: 8.9294 - mae: 2.0772 - val_loss: 6.5091 - val_mae: 2.0959\n",
            "Epoch 71/100\n",
            "363/363 [==============================] - 1s 2ms/step - loss: 8.7512 - mae: 2.0834 - val_loss: 6.9886 - val_mae: 2.2265\n",
            "Epoch 72/100\n",
            "363/363 [==============================] - 1s 2ms/step - loss: 8.7065 - mae: 2.0830 - val_loss: 6.6008 - val_mae: 2.1014\n",
            "Epoch 73/100\n",
            "363/363 [==============================] - 1s 2ms/step - loss: 8.7827 - mae: 2.0805 - val_loss: 7.2421 - val_mae: 2.2525\n",
            "Epoch 74/100\n",
            "363/363 [==============================] - 1s 2ms/step - loss: 8.6624 - mae: 2.0676 - val_loss: 6.4565 - val_mae: 2.0846\n",
            "Epoch 75/100\n",
            "363/363 [==============================] - 1s 2ms/step - loss: 8.6710 - mae: 2.0853 - val_loss: 6.6796 - val_mae: 2.1548\n",
            "Epoch 76/100\n",
            "363/363 [==============================] - 1s 2ms/step - loss: 8.6136 - mae: 2.0666 - val_loss: 6.9773 - val_mae: 2.2369\n",
            "Epoch 77/100\n",
            "363/363 [==============================] - 1s 2ms/step - loss: 8.6826 - mae: 2.0529 - val_loss: 6.7717 - val_mae: 2.1923\n",
            "Epoch 78/100\n",
            "363/363 [==============================] - 1s 2ms/step - loss: 8.4819 - mae: 2.0547 - val_loss: 6.7235 - val_mae: 2.1858\n",
            "Epoch 79/100\n",
            "363/363 [==============================] - 1s 2ms/step - loss: 8.5298 - mae: 2.0571 - val_loss: 6.2252 - val_mae: 2.0602\n",
            "Epoch 80/100\n",
            "363/363 [==============================] - 1s 2ms/step - loss: 8.4917 - mae: 2.0627 - val_loss: 6.4666 - val_mae: 2.1410\n",
            "Epoch 81/100\n",
            "363/363 [==============================] - 1s 2ms/step - loss: 8.4116 - mae: 2.0610 - val_loss: 6.0840 - val_mae: 2.0453\n",
            "Epoch 82/100\n",
            "363/363 [==============================] - 1s 2ms/step - loss: 8.4055 - mae: 2.0141 - val_loss: 6.6789 - val_mae: 2.1695\n",
            "Epoch 83/100\n",
            "363/363 [==============================] - 1s 2ms/step - loss: 8.4741 - mae: 2.0318 - val_loss: 6.4709 - val_mae: 2.1283\n",
            "Epoch 84/100\n",
            "363/363 [==============================] - 1s 2ms/step - loss: 8.3884 - mae: 2.0324 - val_loss: 6.2630 - val_mae: 2.0514\n",
            "Epoch 85/100\n",
            "363/363 [==============================] - 1s 2ms/step - loss: 8.3357 - mae: 2.0447 - val_loss: 6.3793 - val_mae: 2.1136\n",
            "Epoch 86/100\n",
            "363/363 [==============================] - 1s 2ms/step - loss: 8.2716 - mae: 2.0377 - val_loss: 6.6513 - val_mae: 2.1474\n",
            "Epoch 87/100\n",
            "363/363 [==============================] - 1s 2ms/step - loss: 8.2276 - mae: 2.0170 - val_loss: 7.0906 - val_mae: 2.2263\n",
            "Epoch 88/100\n",
            "363/363 [==============================] - 1s 2ms/step - loss: 8.2202 - mae: 2.0374 - val_loss: 6.6979 - val_mae: 2.2066\n",
            "Epoch 89/100\n",
            "363/363 [==============================] - 1s 2ms/step - loss: 8.2428 - mae: 2.0391 - val_loss: 6.4736 - val_mae: 2.1110\n",
            "Epoch 90/100\n",
            "363/363 [==============================] - 1s 2ms/step - loss: 8.2087 - mae: 2.0211 - val_loss: 6.3809 - val_mae: 2.1309\n",
            "Epoch 91/100\n",
            "363/363 [==============================] - 1s 2ms/step - loss: 8.1339 - mae: 1.9945 - val_loss: 6.6114 - val_mae: 2.1415\n",
            "Epoch 92/100\n",
            "363/363 [==============================] - 1s 2ms/step - loss: 8.0925 - mae: 2.0251 - val_loss: 5.9070 - val_mae: 1.9456\n",
            "Epoch 93/100\n",
            "363/363 [==============================] - 1s 2ms/step - loss: 8.0650 - mae: 2.0170 - val_loss: 6.8184 - val_mae: 2.2044\n",
            "Epoch 94/100\n",
            "363/363 [==============================] - 1s 2ms/step - loss: 8.0658 - mae: 2.0113 - val_loss: 6.1753 - val_mae: 2.0525\n",
            "Epoch 95/100\n",
            "363/363 [==============================] - 1s 2ms/step - loss: 8.0418 - mae: 1.9936 - val_loss: 6.4103 - val_mae: 2.1409\n",
            "Epoch 96/100\n",
            "363/363 [==============================] - 1s 2ms/step - loss: 8.0233 - mae: 1.9959 - val_loss: 6.6872 - val_mae: 2.1853\n",
            "Epoch 97/100\n",
            "363/363 [==============================] - 1s 2ms/step - loss: 8.0665 - mae: 2.0188 - val_loss: 6.7426 - val_mae: 2.1635\n",
            "Epoch 98/100\n",
            "363/363 [==============================] - 1s 2ms/step - loss: 7.9360 - mae: 1.9916 - val_loss: 6.2076 - val_mae: 2.0621\n",
            "Epoch 99/100\n",
            "363/363 [==============================] - 1s 2ms/step - loss: 7.8505 - mae: 1.9763 - val_loss: 6.1485 - val_mae: 2.0763\n",
            "Epoch 100/100\n",
            "363/363 [==============================] - 1s 2ms/step - loss: 7.9812 - mae: 1.9944 - val_loss: 6.3819 - val_mae: 2.1266\n"
          ]
        }
      ]
    },
    {
      "cell_type": "code",
      "source": [
        "plt.plot(history.history['mae'], label='Обучающая')\n",
        "plt.plot(history.history['val_mae'], label='Проверочная')\n",
        "plt.legend()\n",
        "plt.show()"
      ],
      "metadata": {
        "colab": {
          "base_uri": "https://localhost:8080/",
          "height": 265
        },
        "id": "T34o-JKwAV19",
        "outputId": "835d3d1b-f26d-4839-83d7-92db6576ec5a"
      },
      "execution_count": null,
      "outputs": [
        {
          "output_type": "display_data",
          "data": {
            "text/plain": [
              "<Figure size 432x288 with 1 Axes>"
            ],
            "image/png": "[encoded data removed]"
          },
          "metadata": {
            "needs_background": "light"
          }
        }
      ]
    },
    {
      "cell_type": "markdown",
      "source": [
        "Проверка"
      ],
      "metadata": {
        "id": "g6tKMNFAATr-"
      }
    },
    {
      "cell_type": "code",
      "source": [
        "mae, mse = model.evaluate(x_test, y_test)\n",
        "print(mae)\n",
        "print(mse)"
      ],
      "metadata": {
        "colab": {
          "base_uri": "https://localhost:8080/"
        },
        "id": "aIdCvVYpAVJr",
        "outputId": "8dc3979d-713f-44e8-f7ac-10c4fc92933c"
      },
      "execution_count": null,
      "outputs": [
        {
          "output_type": "stream",
          "name": "stdout",
          "text": [
            "4/4 [==============================] - 0s 3ms/step - loss: 16.8590 - mae: 2.8227\n",
            "16.859010696411133\n",
            "2.822674512863159\n"
          ]
        }
      ]
    },
    {
      "cell_type": "code",
      "source": [
        "n = 1\n",
        "pred = model.predict(x_test)\n",
        "print(pred[n][0], ' - ', y_test[n])"
      ],
      "metadata": {
        "colab": {
          "base_uri": "https://localhost:8080/"
        },
        "id": "7u62NsD0BHT-",
        "outputId": "4c13fb10-cff6-4d7a-9737-2af91be07023"
      },
      "execution_count": null,
      "outputs": [
        {
          "output_type": "stream",
          "name": "stdout",
          "text": [
            "18.569702  -  18.8\n"
          ]
        }
      ]
    },
    {
      "cell_type": "markdown",
      "source": [
        "Подбор гиперпараметров с помощью Keras Tuner"
      ],
      "metadata": {
        "id": "mOCCoDsRDpQj"
      }
    },
    {
      "cell_type": "code",
      "source": [
        "!pip install -U keras-tuner -q\n",
        "from keras_tuner.tuners import RandomSearch"
      ],
      "metadata": {
        "id": "rHc1Zqw-DtnN",
        "colab": {
          "base_uri": "https://localhost:8080/"
        },
        "outputId": "f745bab4-b145-4ce7-ec3a-a398ed1bbffc"
      },
      "execution_count": 5,
      "outputs": [
        {
          "output_type": "stream",
          "name": "stdout",
          "text": [
            "\u001b[K     |████████████████████████████████| 135 kB 4.7 MB/s \n",
            "\u001b[K     |████████████████████████████████| 1.6 MB 36.1 MB/s \n",
            "\u001b[?25h"
          ]
        }
      ]
    },
    {
      "cell_type": "code",
      "source": [
        "def build_model(hp):\n",
        "  model_tuner = Sequential()\n",
        "  activation_choice = hp.Choice('activation', values=['relu', 'sigmoid'])\n",
        "  model_tuner.add(Dense(units=hp.Int('units_input',\n",
        "                               min_value=8,\n",
        "                               max_value=512,\n",
        "                               step=8),\n",
        "                  input_dim=x_train.shape[1],\n",
        "                  activation=activation_choice))\n",
        "  for i in range(hp.Int('num_layers', 0,2)):\n",
        "    model_tuner.add(Dense(units=hp.Int('units_'+str(i),\n",
        "                                 min_value=8,\n",
        "                                 max_value=512,\n",
        "                                 step=8),\n",
        "                    activation=activation_choice))\n",
        "  model_tuner.add(Dense(1))\n",
        "\n",
        "  model_tuner.compile(\n",
        "      optimizer=hp.Choice('optimizer', values=['Adam', 'rmsprop']),\n",
        "      loss='mse',\n",
        "      metrics=['mae'])\n",
        "  \n",
        "  return model_tuner"
      ],
      "metadata": {
        "id": "hxNBjTfeH5KO"
      },
      "execution_count": 6,
      "outputs": []
    },
    {
      "cell_type": "code",
      "source": [
        "tuner = RandomSearch(\n",
        "    build_model,\n",
        "    objective='val_mae',\n",
        "    max_trials=100,\n",
        "    directory='directory'\n",
        ")"
      ],
      "metadata": {
        "id": "xJQz4I_vIlpH"
      },
      "execution_count": 7,
      "outputs": []
    },
    {
      "cell_type": "code",
      "source": [
        "tuner.search_space_summary()"
      ],
      "metadata": {
        "colab": {
          "base_uri": "https://localhost:8080/"
        },
        "id": "qsXIIOwGJFGh",
        "outputId": "35801997-c73f-47e0-ae70-02ef2122f428"
      },
      "execution_count": 8,
      "outputs": [
        {
          "output_type": "stream",
          "name": "stdout",
          "text": [
            "Search space summary\n",
            "Default search space size: 4\n",
            "activation (Choice)\n",
            "{'default': 'relu', 'conditions': [], 'values': ['relu', 'sigmoid'], 'ordered': False}\n",
            "units_input (Int)\n",
            "{'default': None, 'conditions': [], 'min_value': 8, 'max_value': 512, 'step': 8, 'sampling': None}\n",
            "num_layers (Int)\n",
            "{'default': None, 'conditions': [], 'min_value': 0, 'max_value': 2, 'step': 1, 'sampling': None}\n",
            "optimizer (Choice)\n",
            "{'default': 'Adam', 'conditions': [], 'values': ['Adam', 'rmsprop'], 'ordered': False}\n"
          ]
        }
      ]
    },
    {
      "cell_type": "code",
      "source": [
        "tuner.search(\n",
        "    x_train,\n",
        "    y_train,\n",
        "    batch_size=1,\n",
        "    epochs=100,\n",
        "    validation_split=0.1\n",
        ")"
      ],
      "metadata": {
        "colab": {
          "base_uri": "https://localhost:8080/"
        },
        "id": "tvqS8XH_JL_E",
        "outputId": "05d0dd83-bd51-46f8-ff56-c6e517c92eab"
      },
      "execution_count": 9,
      "outputs": [
        {
          "output_type": "stream",
          "name": "stdout",
          "text": [
            "Trial 100 Complete [00h 02m 22s]\n",
            "val_mae: 2.2717671394348145\n",
            "\n",
            "Best val_mae So Far: 1.3536319732666016\n",
            "Total elapsed time: 03h 07m 45s\n"
          ]
        }
      ]
    },
    {
      "cell_type": "code",
      "source": [
        "models = tuner.get_best_models(num_models=10)\n",
        "for m in models:\n",
        "  m.summary()\n",
        "  m.evaluate(x_test, y_test)\n",
        "  print()"
      ],
      "metadata": {
        "id": "t8seWdNHJp93",
        "colab": {
          "base_uri": "https://localhost:8080/"
        },
        "outputId": "324ac237-7ee2-46fa-8fb8-63e26f036725"
      },
      "execution_count": 11,
      "outputs": [
        {
          "output_type": "stream",
          "name": "stdout",
          "text": [
            "Model: \"sequential\"\n",
            "_________________________________________________________________\n",
            " Layer (type)                Output Shape              Param #   \n",
            "=================================================================\n",
            " dense (Dense)               (None, 352)               4928      \n",
            "                                                                 \n",
            " dense_1 (Dense)             (None, 472)               166616    \n",
            "                                                                 \n",
            " dense_2 (Dense)             (None, 368)               174064    \n",
            "                                                                 \n",
            " dense_3 (Dense)             (None, 1)                 369       \n",
            "                                                                 \n",
            "=================================================================\n",
            "Total params: 345,977\n",
            "Trainable params: 345,977\n",
            "Non-trainable params: 0\n",
            "_________________________________________________________________\n",
            "4/4 [==============================] - 0s 3ms/step - loss: 14.1430 - mae: 2.4733\n",
            "\n",
            "Model: \"sequential\"\n",
            "_________________________________________________________________\n",
            " Layer (type)                Output Shape              Param #   \n",
            "=================================================================\n",
            " dense (Dense)               (None, 208)               2912      \n",
            "                                                                 \n",
            " dense_1 (Dense)             (None, 128)               26752     \n",
            "                                                                 \n",
            " dense_2 (Dense)             (None, 296)               38184     \n",
            "                                                                 \n",
            " dense_3 (Dense)             (None, 1)                 297       \n",
            "                                                                 \n",
            "=================================================================\n",
            "Total params: 68,145\n",
            "Trainable params: 68,145\n",
            "Non-trainable params: 0\n",
            "_________________________________________________________________\n",
            "4/4 [==============================] - 0s 3ms/step - loss: 13.4782 - mae: 2.5050\n",
            "\n",
            "Model: \"sequential\"\n",
            "_________________________________________________________________\n",
            " Layer (type)                Output Shape              Param #   \n",
            "=================================================================\n",
            " dense (Dense)               (None, 288)               4032      \n",
            "                                                                 \n",
            " dense_1 (Dense)             (None, 336)               97104     \n",
            "                                                                 \n",
            " dense_2 (Dense)             (None, 456)               153672    \n",
            "                                                                 \n",
            " dense_3 (Dense)             (None, 1)                 457       \n",
            "                                                                 \n",
            "=================================================================\n",
            "Total params: 255,265\n",
            "Trainable params: 255,265\n",
            "Non-trainable params: 0\n",
            "_________________________________________________________________\n",
            "4/4 [==============================] - 0s 3ms/step - loss: 12.8916 - mae: 2.4300\n",
            "\n",
            "Model: \"sequential\"\n",
            "_________________________________________________________________\n",
            " Layer (type)                Output Shape              Param #   \n",
            "=================================================================\n",
            " dense (Dense)               (None, 432)               6048      \n",
            "                                                                 \n",
            " dense_1 (Dense)             (None, 248)               107384    \n",
            "                                                                 \n",
            " dense_2 (Dense)             (None, 264)               65736     \n",
            "                                                                 \n",
            " dense_3 (Dense)             (None, 1)                 265       \n",
            "                                                                 \n",
            "=================================================================\n",
            "Total params: 179,433\n",
            "Trainable params: 179,433\n",
            "Non-trainable params: 0\n",
            "_________________________________________________________________\n",
            "4/4 [==============================] - 0s 3ms/step - loss: 11.9632 - mae: 2.4453\n",
            "\n",
            "Model: \"sequential\"\n",
            "_________________________________________________________________\n",
            " Layer (type)                Output Shape              Param #   \n",
            "=================================================================\n",
            " dense (Dense)               (None, 400)               5600      \n",
            "                                                                 \n",
            " dense_1 (Dense)             (None, 144)               57744     \n",
            "                                                                 \n",
            " dense_2 (Dense)             (None, 1)                 145       \n",
            "                                                                 \n",
            "=================================================================\n",
            "Total params: 63,489\n",
            "Trainable params: 63,489\n",
            "Non-trainable params: 0\n",
            "_________________________________________________________________\n",
            "4/4 [==============================] - 0s 4ms/step - loss: 11.8508 - mae: 2.5544\n",
            "\n",
            "Model: \"sequential\"\n",
            "_________________________________________________________________\n",
            " Layer (type)                Output Shape              Param #   \n",
            "=================================================================\n",
            " dense (Dense)               (None, 400)               5600      \n",
            "                                                                 \n",
            " dense_1 (Dense)             (None, 408)               163608    \n",
            "                                                                 \n",
            " dense_2 (Dense)             (None, 1)                 409       \n",
            "                                                                 \n",
            "=================================================================\n",
            "Total params: 169,617\n",
            "Trainable params: 169,617\n",
            "Non-trainable params: 0\n",
            "_________________________________________________________________\n",
            "4/4 [==============================] - 0s 4ms/step - loss: 11.4838 - mae: 2.3275\n",
            "\n",
            "Model: \"sequential\"\n",
            "_________________________________________________________________\n",
            " Layer (type)                Output Shape              Param #   \n",
            "=================================================================\n",
            " dense (Dense)               (None, 408)               5712      \n",
            "                                                                 \n",
            " dense_1 (Dense)             (None, 344)               140696    \n",
            "                                                                 \n",
            " dense_2 (Dense)             (None, 344)               118680    \n",
            "                                                                 \n",
            " dense_3 (Dense)             (None, 1)                 345       \n",
            "                                                                 \n",
            "=================================================================\n",
            "Total params: 265,433\n",
            "Trainable params: 265,433\n",
            "Non-trainable params: 0\n",
            "_________________________________________________________________\n",
            "4/4 [==============================] - 0s 4ms/step - loss: 14.0810 - mae: 2.5763\n",
            "\n",
            "Model: \"sequential\"\n",
            "_________________________________________________________________\n",
            " Layer (type)                Output Shape              Param #   \n",
            "=================================================================\n",
            " dense (Dense)               (None, 48)                672       \n",
            "                                                                 \n",
            " dense_1 (Dense)             (None, 416)               20384     \n",
            "                                                                 \n",
            " dense_2 (Dense)             (None, 368)               153456    \n",
            "                                                                 \n",
            " dense_3 (Dense)             (None, 1)                 369       \n",
            "                                                                 \n",
            "=================================================================\n",
            "Total params: 174,881\n",
            "Trainable params: 174,881\n",
            "Non-trainable params: 0\n",
            "_________________________________________________________________\n",
            "4/4 [==============================] - 0s 3ms/step - loss: 13.9808 - mae: 2.4710\n",
            "\n",
            "Model: \"sequential\"\n",
            "_________________________________________________________________\n",
            " Layer (type)                Output Shape              Param #   \n",
            "=================================================================\n",
            " dense (Dense)               (None, 224)               3136      \n",
            "                                                                 \n",
            " dense_1 (Dense)             (None, 104)               23400     \n",
            "                                                                 \n",
            " dense_2 (Dense)             (None, 160)               16800     \n",
            "                                                                 \n",
            " dense_3 (Dense)             (None, 1)                 161       \n",
            "                                                                 \n",
            "=================================================================\n",
            "Total params: 43,497\n",
            "Trainable params: 43,497\n",
            "Non-trainable params: 0\n",
            "_________________________________________________________________\n",
            "4/4 [==============================] - 0s 4ms/step - loss: 13.3994 - mae: 2.5419\n",
            "\n",
            "Model: \"sequential\"\n",
            "_________________________________________________________________\n",
            " Layer (type)                Output Shape              Param #   \n",
            "=================================================================\n",
            " dense (Dense)               (None, 504)               7056      \n",
            "                                                                 \n",
            " dense_1 (Dense)             (None, 1)                 505       \n",
            "                                                                 \n",
            "=================================================================\n",
            "Total params: 7,561\n",
            "Trainable params: 7,561\n",
            "Non-trainable params: 0\n",
            "_________________________________________________________________\n",
            "4/4 [==============================] - 0s 3ms/step - loss: 12.8768 - mae: 2.3246\n",
            "\n"
          ]
        }
      ]
    },
    {
      "cell_type": "code",
      "source": [
        "tuner.get_best_hyperparameters()[0].values"
      ],
      "metadata": {
        "colab": {
          "base_uri": "https://localhost:8080/"
        },
        "id": "lDcLseggcht-",
        "outputId": "2e689518-a85a-424f-e5a0-a7246b80153b"
      },
      "execution_count": 17,
      "outputs": [
        {
          "output_type": "execute_result",
          "data": {
            "text/plain": [
              "{'activation': 'relu',\n",
              " 'units_input': 352,\n",
              " 'num_layers': 2,\n",
              " 'optimizer': 'Adam',\n",
              " 'units_0': 472,\n",
              " 'units_1': 368}"
            ]
          },
          "metadata": {},
          "execution_count": 17
        }
      ]
    },
    {
      "cell_type": "code",
      "source": [
        "model_tuner = tuner.get_best_models()[0]"
      ],
      "metadata": {
        "id": "GEcFX9MjftSj",
        "colab": {
          "base_uri": "https://localhost:8080/"
        },
        "outputId": "a88d96a5-5fc8-4917-b69f-891667ca5477"
      },
      "execution_count": 18,
      "outputs": [
        {
          "output_type": "stream",
          "name": "stderr",
          "text": [
            "WARNING:tensorflow:Detecting that an object or model or tf.train.Checkpoint is being deleted with unrestored values. See the following logs for the specific values in question. To silence these warnings, use `status.expect_partial()`. See https://www.tensorflow.org/api_docs/python/tf/train/Checkpoint#restorefor details about the status object returned by the restore function.\n",
            "WARNING:tensorflow:Value in checkpoint could not be found in the restored object: (root).optimizer.iter\n",
            "WARNING:tensorflow:Value in checkpoint could not be found in the restored object: (root).optimizer.beta_1\n",
            "WARNING:tensorflow:Value in checkpoint could not be found in the restored object: (root).optimizer.beta_2\n",
            "WARNING:tensorflow:Value in checkpoint could not be found in the restored object: (root).optimizer.decay\n",
            "WARNING:tensorflow:Value in checkpoint could not be found in the restored object: (root).optimizer.learning_rate\n",
            "WARNING:tensorflow:Detecting that an object or model or tf.train.Checkpoint is being deleted with unrestored values. See the following logs for the specific values in question. To silence these warnings, use `status.expect_partial()`. See https://www.tensorflow.org/api_docs/python/tf/train/Checkpoint#restorefor details about the status object returned by the restore function.\n",
            "WARNING:tensorflow:Value in checkpoint could not be found in the restored object: (root).optimizer.iter\n",
            "WARNING:tensorflow:Value in checkpoint could not be found in the restored object: (root).optimizer.beta_1\n",
            "WARNING:tensorflow:Value in checkpoint could not be found in the restored object: (root).optimizer.beta_2\n",
            "WARNING:tensorflow:Value in checkpoint could not be found in the restored object: (root).optimizer.decay\n",
            "WARNING:tensorflow:Value in checkpoint could not be found in the restored object: (root).optimizer.learning_rate\n",
            "WARNING:tensorflow:Detecting that an object or model or tf.train.Checkpoint is being deleted with unrestored values. See the following logs for the specific values in question. To silence these warnings, use `status.expect_partial()`. See https://www.tensorflow.org/api_docs/python/tf/train/Checkpoint#restorefor details about the status object returned by the restore function.\n",
            "WARNING:tensorflow:Value in checkpoint could not be found in the restored object: (root).optimizer.iter\n",
            "WARNING:tensorflow:Value in checkpoint could not be found in the restored object: (root).optimizer.beta_1\n",
            "WARNING:tensorflow:Value in checkpoint could not be found in the restored object: (root).optimizer.beta_2\n",
            "WARNING:tensorflow:Value in checkpoint could not be found in the restored object: (root).optimizer.decay\n",
            "WARNING:tensorflow:Value in checkpoint could not be found in the restored object: (root).optimizer.learning_rate\n",
            "WARNING:tensorflow:Detecting that an object or model or tf.train.Checkpoint is being deleted with unrestored values. See the following logs for the specific values in question. To silence these warnings, use `status.expect_partial()`. See https://www.tensorflow.org/api_docs/python/tf/train/Checkpoint#restorefor details about the status object returned by the restore function.\n",
            "WARNING:tensorflow:Value in checkpoint could not be found in the restored object: (root).optimizer.iter\n",
            "WARNING:tensorflow:Value in checkpoint could not be found in the restored object: (root).optimizer.decay\n",
            "WARNING:tensorflow:Value in checkpoint could not be found in the restored object: (root).optimizer.learning_rate\n",
            "WARNING:tensorflow:Value in checkpoint could not be found in the restored object: (root).optimizer.momentum\n",
            "WARNING:tensorflow:Value in checkpoint could not be found in the restored object: (root).optimizer.rho\n",
            "WARNING:tensorflow:Detecting that an object or model or tf.train.Checkpoint is being deleted with unrestored values. See the following logs for the specific values in question. To silence these warnings, use `status.expect_partial()`. See https://www.tensorflow.org/api_docs/python/tf/train/Checkpoint#restorefor details about the status object returned by the restore function.\n",
            "WARNING:tensorflow:Value in checkpoint could not be found in the restored object: (root).optimizer.iter\n",
            "WARNING:tensorflow:Value in checkpoint could not be found in the restored object: (root).optimizer.beta_1\n",
            "WARNING:tensorflow:Value in checkpoint could not be found in the restored object: (root).optimizer.beta_2\n",
            "WARNING:tensorflow:Value in checkpoint could not be found in the restored object: (root).optimizer.decay\n",
            "WARNING:tensorflow:Value in checkpoint could not be found in the restored object: (root).optimizer.learning_rate\n"
          ]
        }
      ]
    },
    {
      "cell_type": "code",
      "source": [
        "mae, mse = model_tuner.evaluate(x_test, y_test)\n",
        "print(mae)\n",
        "print(mse)"
      ],
      "metadata": {
        "colab": {
          "base_uri": "https://localhost:8080/"
        },
        "outputId": "41fdd2d2-b206-4e7a-cf35-cef3bcc9806c",
        "id": "DdsVvQ7gJ8YV"
      },
      "execution_count": 19,
      "outputs": [
        {
          "output_type": "stream",
          "name": "stdout",
          "text": [
            "4/4 [==============================] - 0s 3ms/step - loss: 14.1430 - mae: 2.4733\n",
            "14.142967224121094\n",
            "2.473288059234619\n"
          ]
        }
      ]
    },
    {
      "cell_type": "code",
      "source": [
        "n = 5\n",
        "pred = model_tuner.predict(x_test)\n",
        "print(pred[n][0], ' - ', y_test[n])"
      ],
      "metadata": {
        "colab": {
          "base_uri": "https://localhost:8080/"
        },
        "outputId": "79e518fb-d3b1-43e3-92a8-f04521b018e8",
        "id": "hXhXd_uhJ8YV"
      },
      "execution_count": 22,
      "outputs": [
        {
          "output_type": "stream",
          "name": "stdout",
          "text": [
            "24.376307  -  24.5\n"
          ]
        }
      ]
    }
  ]
}